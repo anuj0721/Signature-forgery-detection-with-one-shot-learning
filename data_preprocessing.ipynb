{
  "nbformat": 4,
  "nbformat_minor": 0,
  "metadata": {
    "colab": {
      "name": "data_preprocessing.ipynb",
      "provenance": [],
      "collapsed_sections": []
    },
    "kernelspec": {
      "display_name": "Python 3",
      "name": "python3"
    }
  },
  "cells": [
    {
      "cell_type": "code",
      "metadata": {
        "id": "Fj2n8t3zFRD1",
        "colab": {
          "base_uri": "https://localhost:8080/"
        },
        "outputId": "b03c8971-2625-4d0b-ba1e-35a88b092bbb"
      },
      "source": [
        "from google.colab import drive\n",
        "drive.mount('/content/drive')"
      ],
      "execution_count": null,
      "outputs": [
        {
          "output_type": "stream",
          "text": [
            "Drive already mounted at /content/drive; to attempt to forcibly remount, call drive.mount(\"/content/drive\", force_remount=True).\n"
          ],
          "name": "stdout"
        }
      ]
    },
    {
      "cell_type": "code",
      "metadata": {
        "id": "M9zqWmMvc-WE",
        "colab": {
          "base_uri": "https://localhost:8080/"
        },
        "outputId": "87b3c1c2-b17c-4f14-ef50-60e956058091"
      },
      "source": [
        "drive.mount(\"/content/drive\", force_remount=True)"
      ],
      "execution_count": null,
      "outputs": [
        {
          "output_type": "stream",
          "text": [
            "Mounted at /content/drive\n"
          ],
          "name": "stdout"
        }
      ]
    },
    {
      "cell_type": "code",
      "metadata": {
        "id": "8I58sYfiFj3Z"
      },
      "source": [
        "import os\n",
        "import cv2\n",
        "from tqdm import tqdm\n",
        "from google.colab.patches import cv2_imshow"
      ],
      "execution_count": null,
      "outputs": []
    },
    {
      "cell_type": "code",
      "metadata": {
        "id": "8UxWVH0aFxl_"
      },
      "source": [
        "os.chdir('drive/My Drive/sign_data')"
      ],
      "execution_count": null,
      "outputs": []
    },
    {
      "cell_type": "code",
      "metadata": {
        "id": "TgNhI0LCGYUo"
      },
      "source": [
        "img = cv2.imread('train/001/001_01.PNG')\n",
        "cv2_imshow(img)"
      ],
      "execution_count": null,
      "outputs": []
    },
    {
      "cell_type": "code",
      "metadata": {
        "id": "yjDZHrveHTZl"
      },
      "source": [
        "img.shape"
      ],
      "execution_count": null,
      "outputs": []
    },
    {
      "cell_type": "code",
      "metadata": {
        "id": "YRtc-BiAJcDm"
      },
      "source": [
        "img_gray = cv2.cvtColor(img, cv2.COLOR_BGR2GRAY)\n",
        "cv2_imshow(img_gray)"
      ],
      "execution_count": null,
      "outputs": []
    },
    {
      "cell_type": "code",
      "metadata": {
        "id": "gPbGUttWJ0wR"
      },
      "source": [
        "img_gray.shape"
      ],
      "execution_count": null,
      "outputs": []
    },
    {
      "cell_type": "code",
      "metadata": {
        "id": "0nrIbB-FKfBV"
      },
      "source": [
        "height = []\n",
        "width = []\n",
        "for name in tqdm(os.listdir('train')):\n",
        "    for image_name in os.listdir('train/'+name):\n",
        "        img = cv2.imread('train/'+name+'/'+image_name)\n",
        "        h, w, _ = img.shape\n",
        "        height.append(h)\n",
        "        width.append(w)"
      ],
      "execution_count": null,
      "outputs": []
    },
    {
      "cell_type": "code",
      "metadata": {
        "id": "pi0ww0_JVUXw"
      },
      "source": [
        "mean_height = int(sum(height)/len(height))\n",
        "mean_width = int(sum(width)/len(width))\n",
        "print(mean_width, mean_height)"
      ],
      "execution_count": null,
      "outputs": []
    },
    {
      "cell_type": "code",
      "metadata": {
        "id": "6-l90xvb0oAH"
      },
      "source": [
        "os.mkdir('../signature_data')\n",
        "os.chdir('../signature_data')\n",
        "os.mkdir('train_data')\n",
        "os.mkdir('validation_data')\n",
        "os.mkdir('test_data')"
      ],
      "execution_count": null,
      "outputs": []
    },
    {
      "cell_type": "code",
      "metadata": {
        "id": "abzNlmN5U_Pz"
      },
      "source": [
        "for name in tqdm(os.listdir('../sign_data/train')):\n",
        "    num_images = len(os.listdir('../sign_data/train/'+name))\n",
        "    i = 0\n",
        "    os.mkdir('train_data/'+name)\n",
        "    os.mkdir('validation_data/'+name)\n",
        "    os.mkdir('test_data/'+name)\n",
        "    for image_name in sorted(os.listdir('../sign_data/train/'+name)):\n",
        "        img = cv2.imread('../sign_data/train/'+name+'/'+image_name)\n",
        "        img_gray = cv2.cvtColor(img, cv2.COLOR_BGR2GRAY)\n",
        "        img_resized = cv2.resize(img_gray, (mean_width, mean_height))\n",
        "        if i < num_images/2:\n",
        "            cv2.imwrite('train_data/'+name+'/'+image_name, img_resized)\n",
        "        elif i < 3*num_images/4:\n",
        "            cv2.imwrite('validation_data/'+name+'/'+image_name, img_resized)\n",
        "        else:\n",
        "            cv2.imwrite('test_data/'+name+'/'+image_name, img_resized)\n",
        "        i += 1"
      ],
      "execution_count": null,
      "outputs": []
    },
    {
      "cell_type": "code",
      "metadata": {
        "id": "j8Go1MfES_N3"
      },
      "source": [
        "img = cv2.imread('train_data/001/001_01.PNG', cv2.IMREAD_GRAYSCALE)\n",
        "cv2_imshow(img)"
      ],
      "execution_count": null,
      "outputs": []
    }
  ]
}