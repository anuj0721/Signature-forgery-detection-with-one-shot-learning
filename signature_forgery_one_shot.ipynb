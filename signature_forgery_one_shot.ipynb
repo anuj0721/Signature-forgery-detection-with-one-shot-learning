{
  "nbformat": 4,
  "nbformat_minor": 0,
  "metadata": {
    "colab": {
      "name": "signature_forgery_one_shot.ipynb",
      "provenance": [],
      "collapsed_sections": []
    },
    "kernelspec": {
      "name": "python3",
      "display_name": "Python 3"
    },
    "accelerator": "GPU"
  },
  "cells": [
    {
      "cell_type": "code",
      "metadata": {
        "id": "IeEMxC5Dm9t6"
      },
      "source": [
        "from google.colab import drive\n",
        "drive.mount('/content/drive')"
      ],
      "execution_count": null,
      "outputs": []
    },
    {
      "cell_type": "code",
      "metadata": {
        "id": "6aJliwjfnCZd"
      },
      "source": [
        "import os\n",
        "import numpy as np\n",
        "import cv2\n",
        "from tqdm import tqdm\n",
        "from google.colab.patches import cv2_imshow\n",
        "import matplotlib.pyplot as plt\n",
        "import itertools\n",
        "import random\n",
        "from sklearn.utils import shuffle\n",
        "from keras import layers\n",
        "from keras import models\n",
        "from keras import backend as K"
      ],
      "execution_count": 2,
      "outputs": []
    },
    {
      "cell_type": "code",
      "metadata": {
        "id": "TykRs-J5nDo3"
      },
      "source": [
        "# Dataset link: https://drive.google.com/drive/folders/1RNOg9Au19eSA5xKd-Sx_GdAm6k1j-fCQ?usp=sharing\n",
        "os.chdir('./drive/My Drive/signature_data_one_shot')"
      ],
      "execution_count": 3,
      "outputs": []
    },
    {
      "cell_type": "code",
      "metadata": {
        "colab": {
          "base_uri": "https://localhost:8080/"
        },
        "id": "UZ7-c07enE1y",
        "outputId": "1e4c3b00-a2e4-4cf8-fb9a-5ed1c1b0477e"
      },
      "source": [
        "!ls"
      ],
      "execution_count": 4,
      "outputs": [
        {
          "output_type": "stream",
          "text": [
            "signature_forgery_one_shot.h5  test_data  train_data  validation_data\n"
          ],
          "name": "stdout"
        }
      ]
    },
    {
      "cell_type": "markdown",
      "metadata": {
        "id": "rgdxY8EcnLI3"
      },
      "source": [
        "#Dataset"
      ]
    },
    {
      "cell_type": "code",
      "metadata": {
        "id": "yLRn6Q_wo9uV"
      },
      "source": [
        "def get_data(dir):\n",
        "    orig = []\n",
        "    forg = []\n",
        "    for name in tqdm(sorted(os.listdir(dir))):\n",
        "        original = []\n",
        "        forged = []\n",
        "        for image_name in sorted(os.listdir(dir+'/'+name)):\n",
        "            img = dir+'/'+name+'/'+image_name\n",
        "            if 'forg' in name.lower():\n",
        "                forged.append(img)\n",
        "            else:\n",
        "                original.append(img)\n",
        "        \n",
        "        if 'forg' in name.lower():\n",
        "            forg.append(forged)\n",
        "        else:\n",
        "            orig.append(original)\n",
        "    \n",
        "    return orig, forg"
      ],
      "execution_count": 5,
      "outputs": []
    },
    {
      "cell_type": "code",
      "metadata": {
        "colab": {
          "base_uri": "https://localhost:8080/"
        },
        "id": "T0vTu0MFpeLB",
        "outputId": "d1f7b583-fcac-4104-8d3e-52afc3e430d9"
      },
      "source": [
        "train_orig, train_forg = get_data('train_data')\n",
        "validation_orig, validation_forg = get_data('validation_data')\n",
        "test_orig, test_forg = get_data('test_data')"
      ],
      "execution_count": 6,
      "outputs": [
        {
          "output_type": "stream",
          "text": [
            "100%|██████████| 100/100 [00:00<00:00, 2684.54it/s]\n",
            "100%|██████████| 14/14 [00:00<00:00, 2084.27it/s]\n",
            "100%|██████████| 14/14 [00:00<00:00, 2339.55it/s]\n"
          ],
          "name": "stderr"
        }
      ]
    },
    {
      "cell_type": "code",
      "metadata": {
        "colab": {
          "base_uri": "https://localhost:8080/"
        },
        "id": "UW5oQzNupuHo",
        "outputId": "57e9f748-f23a-40e2-d006-363904f95b3d"
      },
      "source": [
        "print(len(train_orig))\n",
        "print(len(train_forg))\n",
        "print(len(validation_orig))\n",
        "print(len(validation_forg))\n",
        "print(len(test_orig))\n",
        "print(len(test_forg))"
      ],
      "execution_count": 7,
      "outputs": [
        {
          "output_type": "stream",
          "text": [
            "50\n",
            "50\n",
            "7\n",
            "7\n",
            "7\n",
            "7\n"
          ],
          "name": "stdout"
        }
      ]
    },
    {
      "cell_type": "code",
      "metadata": {
        "id": "hLQ6JLPE6yVO"
      },
      "source": [
        "img = cv2.imread(train_orig[0][4], cv2.IMREAD_GRAYSCALE)"
      ],
      "execution_count": 8,
      "outputs": []
    },
    {
      "cell_type": "code",
      "metadata": {
        "colab": {
          "base_uri": "https://localhost:8080/"
        },
        "id": "RZ9cL9cO7DRr",
        "outputId": "c6dcc2c4-d82b-48dd-bcd5-29f85d2a4fb2"
      },
      "source": [
        "img.shape"
      ],
      "execution_count": 9,
      "outputs": [
        {
          "output_type": "execute_result",
          "data": {
            "text/plain": [
              "(268, 650)"
            ]
          },
          "metadata": {
            "tags": []
          },
          "execution_count": 9
        }
      ]
    },
    {
      "cell_type": "code",
      "metadata": {
        "colab": {
          "base_uri": "https://localhost:8080/",
          "height": 285
        },
        "id": "MWmP-qsdnR0V",
        "outputId": "41ebd692-42e1-4c93-fc10-e8e9390d5dae"
      },
      "source": [
        "cv2_imshow(img)"
      ],
      "execution_count": 10,
      "outputs": [
        {
          "output_type": "display_data",
          "data": {
            "image/png": "[encoded data removed]",
            "text/plain": [
              "<PIL.Image.Image image mode=L size=650x268 at 0x7F3DCBF1F438>"
            ]
          },
          "metadata": {
            "tags": []
          }
        }
      ]
    },
    {
      "cell_type": "markdown",
      "metadata": {
        "id": "gwgE0cZgnWQL"
      },
      "source": [
        "#Creating the Model"
      ]
    },
    {
      "cell_type": "code",
      "metadata": {
        "id": "LmOMa6oYqzpt"
      },
      "source": [
        "def generate_batch(orig_groups, forg_groups, batch_size = 32):\n",
        "    '''Function to generate a batch of data with batch_size number of data points\n",
        "    Half of the data points will be Genuine-Genuine pairs and half will be Genuine-Forged pairs'''\n",
        "    while True:\n",
        "        orig_pairs = []\n",
        "        forg_pairs = []\n",
        "        gen_gen_labels = []\n",
        "        gen_for_labels = []\n",
        "        all_pairs = []\n",
        "        all_labels = []\n",
        "        \n",
        "        # Here we create pairs of Genuine-Genuine image names and Genuine-Forged image names\n",
        "        # For every person we have 12 genuine signatures, hence we have \n",
        "        # 12 choose 2 = 66 Genuine-Genuine image pairs for one person.\n",
        "        # To make Genuine-Forged pairs, we pair every Genuine signature of a person\n",
        "        # with 8 Forged signatures of the same person.\n",
        "        # Thus we make 12 * 8 = 96 Genuine-Forged image pairs for one person.\n",
        "        # In all we have 50 person's data in the training data.\n",
        "        # Total no. of Genuine-Genuine pairs = 50 * 66 = 3300\n",
        "        # Total number of Genuine-Forged pairs = 50 * 96 = 4800\n",
        "        # Total no. of data points = 3300 + 4800 = 8100\n",
        "        for orig, forg in zip(orig_groups, forg_groups):\n",
        "            orig_pairs.extend(list(itertools.combinations(orig, 2)))\n",
        "            for i in range(len(orig)):\n",
        "                forg_pairs.extend(list(itertools.product(orig[i:i+1], forg)))\n",
        "        \n",
        "        # Label for Genuine-Genuine pairs is 1\n",
        "        # Label for Genuine-Forged pairs is 0\n",
        "        gen_gen_labels = [1]*len(orig_pairs)\n",
        "        gen_for_labels = [0]*len(forg_pairs)\n",
        "        \n",
        "        # Concatenate all the pairs together along with their labels and shuffle them\n",
        "        all_pairs = orig_pairs + forg_pairs\n",
        "        all_labels = gen_gen_labels + gen_for_labels\n",
        "        del orig_pairs, forg_pairs, gen_gen_labels, gen_for_labels\n",
        "        all_pairs, all_labels = shuffle(all_pairs, all_labels)\n",
        "            \n",
        "        k = 0\n",
        "        pairs=[np.zeros((batch_size, 268, 650, 1)) for i in range(2)]\n",
        "        targets=np.zeros((batch_size,))\n",
        "        for ix, pair in enumerate(all_pairs):\n",
        "            img1 = cv2.imread(pair[0], cv2.IMREAD_GRAYSCALE)\n",
        "            img2 = cv2.imread(pair[1], cv2.IMREAD_GRAYSCALE)\n",
        "            img1 = np.array(img1, dtype = np.float64)\n",
        "            img2 = np.array(img2, dtype = np.float64)\n",
        "            img1 /= 255\n",
        "            img2 /= 255\n",
        "            img1 = img1[..., np.newaxis]\n",
        "            img2 = img2[..., np.newaxis]\n",
        "            pairs[0][k, :, :, :] = img1\n",
        "            pairs[1][k, :, :, :] = img2\n",
        "            targets[k] = all_labels[ix]\n",
        "            k += 1\n",
        "            if k == batch_size:\n",
        "                yield pairs, targets\n",
        "                k = 0\n",
        "                pairs=[np.zeros((batch_size, 268, 650, 1)) for i in range(2)]\n",
        "                targets=np.zeros((batch_size,))"
      ],
      "execution_count": 11,
      "outputs": []
    },
    {
      "cell_type": "code",
      "metadata": {
        "id": "TAQBC_eU-B9L"
      },
      "source": [
        "def euclidean_distance(vects):\n",
        "    '''Compute Euclidean Distance between two vectors'''\n",
        "    x, y = vects\n",
        "    return K.sqrt(K.sum(K.square(x - y), axis=1, keepdims=True))"
      ],
      "execution_count": 12,
      "outputs": []
    },
    {
      "cell_type": "code",
      "metadata": {
        "id": "wvWge5re-DBZ"
      },
      "source": [
        "def eucl_dist_output_shape(shapes):\n",
        "    shape1, shape2 = shapes\n",
        "    return (shape1[0], 1)"
      ],
      "execution_count": 13,
      "outputs": []
    },
    {
      "cell_type": "code",
      "metadata": {
        "id": "IaGumUGt8Ici"
      },
      "source": [
        "def create_base_network_signet(input_shape):\n",
        "    '''Base Siamese Network'''\n",
        "    \n",
        "    model = models.Sequential()\n",
        "    model.add(layers.Conv2D(32, (3, 3), activation='relu', input_shape=input_shape,padding='same'))\n",
        "    model.add(layers.MaxPooling2D((2, 2),padding='same'))\n",
        "    model.add(layers.Conv2D(64, (3, 3), activation='relu',padding='same'))\n",
        "    model.add(layers.MaxPooling2D((2, 2),padding='same'))\n",
        "    model.add(layers.Conv2D(64, (3, 3), activation='relu',padding='same'))\n",
        "    model.add(layers.MaxPooling2D((2, 2),padding='same'))\n",
        "    model.add(layers.Flatten())\n",
        "    model.add(layers.Dense(1024, activation='relu'))\n",
        "    model.add(layers.Dense(128, activation='relu'))\n",
        "\n",
        "    return model"
      ],
      "execution_count": 14,
      "outputs": []
    },
    {
      "cell_type": "code",
      "metadata": {
        "id": "frCxAgcy8P3R",
        "colab": {
          "base_uri": "https://localhost:8080/"
        },
        "outputId": "7e594fab-1cef-48dc-b394-67079ea7cc09"
      },
      "source": [
        "input_shape=(268, 650, 1)\n",
        "base_network = create_base_network_signet(input_shape)\n",
        "\n",
        "input_a = models.Input(shape=(input_shape))\n",
        "input_b = models.Input(shape=(input_shape))\n",
        "\n",
        "processed_a = base_network(input_a)\n",
        "processed_b = base_network(input_b)\n",
        "\n",
        "distance = layers.Lambda(euclidean_distance, output_shape=eucl_dist_output_shape)([processed_a, processed_b])\n",
        "prediction = layers.Dense(1,activation='sigmoid')(distance)\n",
        "\n",
        "model = models.Model(inputs=[input_a, input_b], outputs=prediction)\n",
        "\n",
        "model.summary()"
      ],
      "execution_count": 15,
      "outputs": [
        {
          "output_type": "stream",
          "text": [
            "Model: \"model\"\n",
            "__________________________________________________________________________________________________\n",
            "Layer (type)                    Output Shape         Param #     Connected to                     \n",
            "==================================================================================================\n",
            "input_1 (InputLayer)            [(None, 268, 650, 1) 0                                            \n",
            "__________________________________________________________________________________________________\n",
            "input_2 (InputLayer)            [(None, 268, 650, 1) 0                                            \n",
            "__________________________________________________________________________________________________\n",
            "sequential (Sequential)         (None, 128)          182902336   input_1[0][0]                    \n",
            "                                                                 input_2[0][0]                    \n",
            "__________________________________________________________________________________________________\n",
            "lambda (Lambda)                 (None, 1)            0           sequential[0][0]                 \n",
            "                                                                 sequential[1][0]                 \n",
            "__________________________________________________________________________________________________\n",
            "dense_2 (Dense)                 (None, 1)            2           lambda[0][0]                     \n",
            "==================================================================================================\n",
            "Total params: 182,902,338\n",
            "Trainable params: 182,902,338\n",
            "Non-trainable params: 0\n",
            "__________________________________________________________________________________________________\n"
          ],
          "name": "stdout"
        }
      ]
    },
    {
      "cell_type": "code",
      "metadata": {
        "id": "6-GuG2ylu8pn"
      },
      "source": [
        "model.compile(optimizer='rmsprop',loss='binary_crossentropy',metrics=['accuracy'])"
      ],
      "execution_count": 16,
      "outputs": []
    },
    {
      "cell_type": "markdown",
      "metadata": {
        "id": "MttILs96ndsp"
      },
      "source": [
        "#Training the model"
      ]
    },
    {
      "cell_type": "code",
      "metadata": {
        "colab": {
          "base_uri": "https://localhost:8080/"
        },
        "id": "ZUFU8KygBAuZ",
        "outputId": "e191f1e7-8c5d-4043-e608-e90362870da4"
      },
      "source": [
        "num_train_samples = 66*50 + 96*50\n",
        "num_val_samples = num_test_samples = 66*7 + 96*7\n",
        "num_train_samples, num_val_samples, num_test_samples"
      ],
      "execution_count": 17,
      "outputs": [
        {
          "output_type": "execute_result",
          "data": {
            "text/plain": [
              "(8100, 1134, 1134)"
            ]
          },
          "metadata": {
            "tags": []
          },
          "execution_count": 17
        }
      ]
    },
    {
      "cell_type": "code",
      "metadata": {
        "colab": {
          "base_uri": "https://localhost:8080/"
        },
        "id": "kxH0SSTfnaqu",
        "outputId": "ee3bfe3c-a241-43cd-a383-a221882cc7b4"
      },
      "source": [
        "batch_size=64\n",
        "history = model.fit(generate_batch(train_orig, train_forg, batch_size),\n",
        "                   steps_per_epoch = num_train_samples//batch_size,\n",
        "                   epochs = 4,\n",
        "                   validation_data = generate_batch(validation_orig, validation_forg, batch_size),\n",
        "                   validation_steps = num_val_samples//batch_size)"
      ],
      "execution_count": 18,
      "outputs": [
        {
          "output_type": "stream",
          "text": [
            "Epoch 1/4\n",
            "126/126 [==============================] - 106s 803ms/step - loss: 0.4107 - accuracy: 0.7002 - val_loss: 0.2635 - val_accuracy: 1.0000\n",
            "Epoch 2/4\n",
            "126/126 [==============================] - 100s 798ms/step - loss: 0.2643 - accuracy: 0.9896 - val_loss: 0.2486 - val_accuracy: 1.0000\n",
            "Epoch 3/4\n",
            "126/126 [==============================] - 100s 797ms/step - loss: 0.2278 - accuracy: 0.9994 - val_loss: 0.2191 - val_accuracy: 1.0000\n",
            "Epoch 4/4\n",
            "126/126 [==============================] - 100s 796ms/step - loss: 0.2064 - accuracy: 0.9988 - val_loss: 0.2063 - val_accuracy: 1.0000\n"
          ],
          "name": "stdout"
        }
      ]
    },
    {
      "cell_type": "markdown",
      "metadata": {
        "id": "ex5afm6WnkkL"
      },
      "source": [
        "#Plotting results"
      ]
    },
    {
      "cell_type": "code",
      "metadata": {
        "id": "NPCGmeTgnk9e",
        "colab": {
          "base_uri": "https://localhost:8080/",
          "height": 545
        },
        "outputId": "0f2d6da9-aa56-4929-ac3b-529eec90584b"
      },
      "source": [
        "acc = history.history['accuracy']\n",
        "val_acc = history.history['val_accuracy']\n",
        "loss = history.history['loss']\n",
        "val_loss = history.history['val_loss']\n",
        "\n",
        "epochs = range(len(acc))\n",
        " \n",
        "plt.plot(epochs, acc, 'b', label='Training acc')\n",
        "plt.plot(epochs, val_acc, 'r', label='Validation acc')\n",
        "plt.title('Training and validation accuracy')\n",
        "plt.legend()\n",
        " \n",
        "plt.figure()\n",
        " \n",
        "plt.plot(epochs, loss, 'b', label='Training loss')\n",
        "plt.plot(epochs, val_loss, 'r', label='Validation loss')\n",
        "plt.title('Training and validation loss')\n",
        "plt.legend()\n",
        " \n",
        "plt.show()"
      ],
      "execution_count": 19,
      "outputs": [
        {
          "output_type": "display_data",
          "data": {
            "image/png": "[encoded data removed]",
            "text/plain": [
              "<Figure size 432x288 with 1 Axes>"
            ]
          },
          "metadata": {
            "tags": [],
            "needs_background": "light"
          }
        },
        {
          "output_type": "display_data",
          "data": {
            "image/png": "[encoded data removed]",
            "text/plain": [
              "<Figure size 432x288 with 1 Axes>"
            ]
          },
          "metadata": {
            "tags": [],
            "needs_background": "light"
          }
        }
      ]
    },
    {
      "cell_type": "markdown",
      "metadata": {
        "id": "M7n9BcYqnoIK"
      },
      "source": [
        "#Checking accuracy of Test set"
      ]
    },
    {
      "cell_type": "code",
      "metadata": {
        "colab": {
          "base_uri": "https://localhost:8080/"
        },
        "id": "5KEi9xFuVDZu",
        "outputId": "9e7dabb6-bfe4-4ac7-f79c-7e3b023577a5"
      },
      "source": [
        "test_loss, test_acc = model.evaluate(generate_batch(test_orig, test_forg, 1), steps=num_test_samples)\n",
        "test_acc"
      ],
      "execution_count": 20,
      "outputs": [
        {
          "output_type": "stream",
          "text": [
            "1134/1134 [==============================] - 57s 50ms/step - loss: 0.2060 - accuracy: 0.9894\n"
          ],
          "name": "stdout"
        },
        {
          "output_type": "execute_result",
          "data": {
            "text/plain": [
              "0.9894179701805115"
            ]
          },
          "metadata": {
            "tags": []
          },
          "execution_count": 20
        }
      ]
    },
    {
      "cell_type": "markdown",
      "metadata": {
        "id": "VyNvXTEVnqVR"
      },
      "source": [
        "#Saving the Model"
      ]
    },
    {
      "cell_type": "code",
      "metadata": {
        "id": "mmYETNeHnrep"
      },
      "source": [
        "model.save('signature_forgery_one_shot.h5')"
      ],
      "execution_count": 21,
      "outputs": []
    }
  ]
}